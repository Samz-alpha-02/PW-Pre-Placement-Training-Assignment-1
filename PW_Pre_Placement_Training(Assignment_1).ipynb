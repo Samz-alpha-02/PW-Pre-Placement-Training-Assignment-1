{
  "nbformat": 4,
  "nbformat_minor": 0,
  "metadata": {
    "colab": {
      "provenance": []
    },
    "kernelspec": {
      "name": "python3",
      "display_name": "Python 3"
    },
    "language_info": {
      "name": "python"
    }
  },
  "cells": [
    {
      "cell_type": "code",
      "execution_count": null,
      "metadata": {
        "colab": {
          "base_uri": "https://localhost:8080/"
        },
        "id": "1-0sl3N4d0Wq",
        "outputId": "50b20bcb-7be1-4ba8-ac1b-ff2790ccbe17"
      },
      "outputs": [
        {
          "output_type": "stream",
          "name": "stdout",
          "text": [
            "Enter number of elements : 6\n",
            "23\n",
            "51\n",
            "5\n",
            "89\n",
            "17\n",
            "45\n",
            "[23, 51, 5, 89, 17, 45]\n",
            "Enter the target : 50\n",
            "[2, 5]\n"
          ]
        }
      ],
      "source": [
        "#Q1\n",
        "arr = []\n",
        "n = int(input(\"Enter number of elements : \"))\n",
        "for i in range(0, n):\n",
        "\tele = int(input())\n",
        "\tarr.append(ele)\n",
        "\n",
        "print(arr)\n",
        "\n",
        "lst=[]\n",
        "\n",
        "target = int(input(\"Enter the target : \"))\n",
        "\n",
        "for i in range(0,n-2):\n",
        "  for j in range(i+1,n):\n",
        "    temp = arr[i] + arr[j]\n",
        "    if temp == target:\n",
        "      lst.append(i)\n",
        "      lst.append(j)\n",
        "      print(lst)\n",
        "      break\n",
        "\n",
        "\n",
        "\n"
      ]
    },
    {
      "cell_type": "code",
      "source": [
        "#Q2\n",
        "def removeElement(nums, val):\n",
        "    j = 0\n",
        "    for i in range(len(nums)):\n",
        "        if nums[i] != val:\n",
        "            nums[j] = nums[i]\n",
        "            j += 1\n",
        "    return j\n",
        "nums = [4,23,67,4,8,12,99,4,33,4]\n",
        "val = 4\n",
        "result = removeElement(nums, val)\n",
        "print(\"Output:\", result)\n",
        "print(\"Modified nums:\", nums[:result] + [\"-\"] * (len(nums) - result))\n"
      ],
      "metadata": {
        "colab": {
          "base_uri": "https://localhost:8080/"
        },
        "id": "9lsQt7I6m_jO",
        "outputId": "fad419fa-064a-45a2-8371-9298d6eeea47"
      },
      "execution_count": null,
      "outputs": [
        {
          "output_type": "stream",
          "name": "stdout",
          "text": [
            "Output: 6\n",
            "Modified nums: [23, 67, 8, 12, 99, 33, '-', '-', '-', '-']\n"
          ]
        }
      ]
    },
    {
      "cell_type": "code",
      "source": [
        "#Q3\n",
        "def searchInsert(nums, target):\n",
        "    left, right = 0, len(nums) - 1\n",
        "\n",
        "    while left <= right:\n",
        "        mid = (left + right) // 2\n",
        "\n",
        "        if nums[mid] == target:\n",
        "            return mid\n",
        "        elif nums[mid] < target:\n",
        "            left = mid + 1\n",
        "        else:\n",
        "            right = mid - 1\n",
        "\n",
        "    return left\n",
        "\n",
        "nums = []\n",
        "n = int(input(\"Enter number of elements : \"))\n",
        "for i in range(0, n):\n",
        "\tele = int(input())\n",
        "\tnums.append(ele)\n",
        "\n",
        "print(nums)\n",
        "\n",
        "target = int(input(\"Enter the target value: \"))\n",
        "\n",
        "index = searchInsert(nums, target)\n",
        "print(\"Output:\", index)\n"
      ],
      "metadata": {
        "colab": {
          "base_uri": "https://localhost:8080/"
        },
        "id": "US4fmLFmEjM7",
        "outputId": "2ffa4b15-3c4d-41e5-a3c9-e585fd8303bd"
      },
      "execution_count": null,
      "outputs": [
        {
          "output_type": "stream",
          "name": "stdout",
          "text": [
            "Enter number of elements : 9\n",
            "2\n",
            "13\n",
            "31\n",
            "45\n",
            "49\n",
            "58\n",
            "67\n",
            "86\n",
            "93\n",
            "[2, 13, 31, 45, 49, 58, 67, 86, 93]\n",
            "Enter the target value: 45\n",
            "Output: 3\n"
          ]
        }
      ]
    },
    {
      "cell_type": "code",
      "source": [
        "#Q4\n",
        "arr = []\n",
        "n = int(input(\"Enter number of elements : \"))\n",
        "for i in range(0, n):\n",
        "\tele = int(input())\n",
        "\tarr.append(ele)\n",
        "\n",
        "print(arr)\n",
        "\n",
        "arr[n-1]+=1\n",
        "\n",
        "print(arr)"
      ],
      "metadata": {
        "colab": {
          "base_uri": "https://localhost:8080/"
        },
        "id": "u8LnTSS8Rl4P",
        "outputId": "b47b8a63-4a3c-41a2-ae83-e874c2948dc1"
      },
      "execution_count": null,
      "outputs": [
        {
          "output_type": "stream",
          "name": "stdout",
          "text": [
            "Enter number of elements : 5\n",
            "2\n",
            "6\n",
            "8\n",
            "89\n",
            "23\n",
            "[2, 6, 8, 89, 23]\n",
            "[2, 6, 8, 89, 24]\n"
          ]
        }
      ]
    },
    {
      "cell_type": "code",
      "source": [
        "#Q5\n",
        "def merge(nums1, m, nums2, n):\n",
        "    p1 = m - 1\n",
        "    p2 = n - 1\n",
        "    p = m + n - 1\n",
        "\n",
        "    while p1 >= 0 and p2 >= 0:\n",
        "        if nums1[p1] >= nums2[p2]:\n",
        "            nums1[p] = nums1[p1]\n",
        "            p1 -= 1\n",
        "        else:\n",
        "            nums1[p] = nums2[p2]\n",
        "            p2 -= 1\n",
        "        p -= 1\n",
        "\n",
        "    # Copy remaining elements from nums2 to nums1\n",
        "    nums1[:p2 + 1] = nums2[:p2 + 1]\n",
        "\n",
        "# Example usage:\n",
        "nums1 = [1, 2, 3, 0, 0, 0]\n",
        "m = 3\n",
        "nums2 = [2, 5, 6]\n",
        "n = 3\n",
        "\n",
        "merge(nums1, m, nums2, n)\n",
        "print(nums1)  # Output: [1, 2, 2, 3, 5, 6]\n",
        "\n",
        "\n"
      ],
      "metadata": {
        "colab": {
          "base_uri": "https://localhost:8080/"
        },
        "id": "NXiibJopSE4F",
        "outputId": "f0fbc069-9026-4132-d1f0-546967605852"
      },
      "execution_count": null,
      "outputs": [
        {
          "output_type": "stream",
          "name": "stdout",
          "text": [
            "[1, 2, 2, 3, 5, 6]\n"
          ]
        }
      ]
    },
    {
      "cell_type": "code",
      "source": [
        "#Q6\n",
        "def unique(data):\n",
        "  for i in range(0,len(data)):\n",
        "    for j in range(i+1,len(data)):\n",
        "      if data[i]==data[j]:\n",
        "        return True\n",
        "  else:\n",
        "    return False\n",
        "\n",
        "data = [2,5,12,45,3,78,91,5]\n",
        "\n",
        "res = unique(data)\n",
        "\n",
        "print(res)"
      ],
      "metadata": {
        "colab": {
          "base_uri": "https://localhost:8080/"
        },
        "id": "OnHb_hn-ZXc9",
        "outputId": "e3bcf0c3-8535-473d-cd23-22d146dd5215"
      },
      "execution_count": null,
      "outputs": [
        {
          "output_type": "stream",
          "name": "stdout",
          "text": [
            "True\n"
          ]
        }
      ]
    },
    {
      "cell_type": "code",
      "source": [
        "#Q7\n",
        "def shiftzero(nums):\n",
        "    j = 0\n",
        "    for i in range(len(nums)):\n",
        "        if nums[i] != 0:\n",
        "            nums[j] = nums[i]\n",
        "            j += 1\n",
        "    return j\n",
        "\n",
        "nums = [0,23,67,4,0,12,99,0,33,4]\n",
        "result = shiftzero(nums)\n",
        "print(\"Modified nums:\", nums[:result] + [0] * (len(nums) - result))"
      ],
      "metadata": {
        "colab": {
          "base_uri": "https://localhost:8080/"
        },
        "id": "iU68wB3fcB0l",
        "outputId": "c5b1028b-3406-420d-af92-730a05a14b3f"
      },
      "execution_count": null,
      "outputs": [
        {
          "output_type": "stream",
          "name": "stdout",
          "text": [
            "Modified nums: [23, 67, 4, 12, 99, 33, 4, 0, 0, 0]\n"
          ]
        }
      ]
    },
    {
      "cell_type": "code",
      "source": [
        "#Q8\n",
        "def duplicate(nums):\n",
        "  for i in range(len(nums)-1):\n",
        "    for j in range(i+1,len(nums)):\n",
        "      if nums[i]==nums[j]:\n",
        "        nums[j]=j+1\n",
        "        print([i+1,j+1])\n",
        "\n",
        "\n",
        "nums = [1,2,2,3,3,4,5,6,7,8,8]\n",
        "duplicate(nums)\n"
      ],
      "metadata": {
        "colab": {
          "base_uri": "https://localhost:8080/"
        },
        "id": "QNrdqVltesRV",
        "outputId": "b910f10e-a380-481a-a40f-13586b31f683"
      },
      "execution_count": 85,
      "outputs": [
        {
          "output_type": "stream",
          "name": "stdout",
          "text": [
            "[2, 3]\n",
            "[3, 4]\n",
            "[3, 5]\n",
            "[4, 6]\n",
            "[5, 7]\n",
            "[6, 8]\n",
            "[7, 9]\n",
            "[8, 10]\n",
            "[8, 11]\n"
          ]
        }
      ]
    }
  ]
}